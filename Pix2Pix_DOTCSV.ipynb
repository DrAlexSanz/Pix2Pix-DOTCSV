{
  "nbformat": 4,
  "nbformat_minor": 0,
  "metadata": {
    "colab": {
      "name": "Pix2Pix-DOTCSV.ipynb",
      "provenance": [],
      "collapsed_sections": [],
      "include_colab_link": true
    },
    "kernelspec": {
      "name": "python3",
      "display_name": "Python 3"
    }
  },
  "cells": [
    {
      "cell_type": "markdown",
      "metadata": {
        "id": "view-in-github",
        "colab_type": "text"
      },
      "source": [
        "<a href=\"https://colab.research.google.com/github/DrAlexSanz/Pix2Pix-DOTCSV/blob/master/Pix2Pix_DOTCSV.ipynb\" target=\"_parent\"><img src=\"https://colab.research.google.com/assets/colab-badge.svg\" alt=\"Open In Colab\"/></a>"
      ]
    },
    {
      "cell_type": "markdown",
      "metadata": {
        "id": "vmjvFkiBqf3h",
        "colab_type": "text"
      },
      "source": [
        "This notebook is just for me, an implementation of the pix2pix algorithm following DotCSV's tutorial. It is very useful to get to know Tensorflow 2.0 and then I will use it for different things.\n",
        "\n",
        "Video: [Video dotCSV](https://youtu.be/YsrMGcgfETY)\n",
        "\n",
        "The tutorial, as he explains at the beginning, is based on this code:\n",
        "\n",
        "[Tutorial Pix 2 Pix tensorflow 2.0](https://www.tensorflow.org/tutorials/generative/pix2pix)"
      ]
    },
    {
      "cell_type": "code",
      "metadata": {
        "id": "lLAYuZbaqHnf",
        "colab_type": "code",
        "colab": {}
      },
      "source": [
        "import tensorflow as tf\n",
        "import matplotlib.pyplot as plt\n",
        "import numpy as np\n",
        "\n",
        "# Define paths\n",
        "\n",
        "# Root\n",
        "\n",
        "PATH = \"/content/drive/My Drive/Pix2PixFlowers\"\n",
        "\n",
        "# Input path\n",
        "\n",
        "INPATH = PATH = \"/content/drive/My Drive/Pix2PixFlowers/InputFlowers\"\n",
        "\n",
        "# Output path\n",
        "\n",
        "OUTPATH = PATH = \"/content/drive/My Drive/Pix2PixFlowers/OutputFlowers\"\n",
        "\n",
        "# Checkpoints directory\n",
        "\n",
        "CKPATH = PATH = \"/content/drive/My Drive/Pix2PixFlowers/Checkpoints\""
      ],
      "execution_count": 0,
      "outputs": []
    }
  ]
}