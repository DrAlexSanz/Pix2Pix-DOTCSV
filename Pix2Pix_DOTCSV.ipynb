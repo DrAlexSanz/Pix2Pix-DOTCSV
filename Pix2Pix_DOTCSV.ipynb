{
  "nbformat": 4,
  "nbformat_minor": 0,
  "metadata": {
    "colab": {
      "name": "Pix2Pix-DOTCSV.ipynb",
      "provenance": [],
      "collapsed_sections": [],
      "include_colab_link": true
    },
    "kernelspec": {
      "name": "python3",
      "display_name": "Python 3"
    },
    "accelerator": "GPU"
  },
  "cells": [
    {
      "cell_type": "markdown",
      "metadata": {
        "id": "view-in-github",
        "colab_type": "text"
      },
      "source": [
        "<a href=\"https://colab.research.google.com/github/DrAlexSanz/Pix2Pix-DOTCSV/blob/master/Pix2Pix_DOTCSV.ipynb\" target=\"_parent\"><img src=\"https://colab.research.google.com/assets/colab-badge.svg\" alt=\"Open In Colab\"/></a>"
      ]
    },
    {
      "cell_type": "markdown",
      "metadata": {
        "id": "vmjvFkiBqf3h",
        "colab_type": "text"
      },
      "source": [
        "This notebook is just for me, an implementation of the pix2pix algorithm following DotCSV's tutorial. It is very useful to get to know Tensorflow 2.0 and then I will use it for different things.\n",
        "\n",
        "Video: [Video dotCSV](https://youtu.be/YsrMGcgfETY)\n",
        "\n",
        "The tutorial, as he explains at the beginning, is based on this code:\n",
        "\n",
        "[Tutorial Pix 2 Pix tensorflow 2.0](https://www.tensorflow.org/tutorials/generative/pix2pix)"
      ]
    },
    {
      "cell_type": "code",
      "metadata": {
        "id": "zvNt-s9LWIgb",
        "colab_type": "code",
        "colab": {
          "base_uri": "https://localhost:8080/",
          "height": 34
        },
        "outputId": "e3b519a2-302a-4dbc-9875-dc1ee47da99a"
      },
      "source": [
        "%tensorflow_version 2.x"
      ],
      "execution_count": 1,
      "outputs": [
        {
          "output_type": "stream",
          "text": [
            "TensorFlow 2.x selected.\n"
          ],
          "name": "stdout"
        }
      ]
    },
    {
      "cell_type": "code",
      "metadata": {
        "id": "lLAYuZbaqHnf",
        "colab_type": "code",
        "colab": {}
      },
      "source": [
        "import tensorflow as tf\n",
        "import matplotlib.pyplot as plt\n",
        "import matplotlib.image as mpimg\n",
        "import numpy as np\n",
        "import os, shutil\n",
        "import glob\n",
        "from PIL import Image, ImageOps, ImageFilter\n",
        "\n",
        "# Define paths\n",
        "\n",
        "# Root\n",
        "\n",
        "PATH = \"/content/drive/My Drive/Pix2PixFlowers\"\n",
        "\n",
        "# Input path\n",
        "\n",
        "INPATH = PATH = \"/content/drive/My Drive/Pix2PixFlowers/InputFlowers\"\n",
        "\n",
        "# Sketch path\n",
        "\n",
        "SKEPATH = \"/content/drive/My Drive/Pix2PixFlowers/SketchFlowers\"\n",
        "\n",
        "# Output path\n",
        "\n",
        "OUTPATH = PATH = \"/content/drive/My Drive/Pix2PixFlowers/OutputFlowers\"\n",
        "\n",
        "# Checkpoints directory\n",
        "\n",
        "CKPATH = PATH = \"/content/drive/My Drive/Pix2PixFlowers/Checkpoints\""
      ],
      "execution_count": 0,
      "outputs": []
    },
    {
      "cell_type": "markdown",
      "metadata": {
        "id": "nhSfM0YBvbRA",
        "colab_type": "text"
      },
      "source": [
        "Activate drive to load the data"
      ]
    },
    {
      "cell_type": "code",
      "metadata": {
        "id": "ycjA0Z-zvaDh",
        "colab_type": "code",
        "outputId": "ec8bd158-6617-42f6-cf5f-8d73d446bb59",
        "colab": {
          "base_uri": "https://localhost:8080/",
          "height": 34
        }
      },
      "source": [
        "from google.colab import drive\n",
        "drive.mount('/content/drive', force_remount = True)"
      ],
      "execution_count": 9,
      "outputs": [
        {
          "output_type": "stream",
          "text": [
            "Mounted at /content/drive\n"
          ],
          "name": "stdout"
        }
      ]
    },
    {
      "cell_type": "code",
      "metadata": {
        "id": "jz84fbpIw9VH",
        "colab_type": "code",
        "outputId": "a191f3e3-3356-4853-8aa8-20d751f1f9a0",
        "colab": {
          "base_uri": "https://localhost:8080/",
          "height": 829
        }
      },
      "source": [
        "a = INPATH + \"/image_00001.jpg\"\n",
        "a = mpimg.imread(a)\n",
        "plt.imshow(a)\n",
        "plt.axis(\"off\")"
      ],
      "execution_count": 10,
      "outputs": [
        {
          "output_type": "stream",
          "text": [
            "ERROR:root:Internal Python error in the inspect module.\n",
            "Below is the traceback from this internal error.\n",
            "\n"
          ],
          "name": "stderr"
        },
        {
          "output_type": "stream",
          "text": [
            "Traceback (most recent call last):\n",
            "  File \"/usr/local/lib/python3.6/dist-packages/IPython/core/interactiveshell.py\", line 2882, in run_code\n",
            "    exec(code_obj, self.user_global_ns, self.user_ns)\n",
            "  File \"<ipython-input-10-2bceda31f242>\", line 2, in <module>\n",
            "    a = mpimg.imread(a)\n",
            "  File \"/usr/local/lib/python3.6/dist-packages/matplotlib/image.py\", line 1351, in imread\n",
            "    with Image.open(fname) as image:\n",
            "  File \"/usr/local/lib/python3.6/dist-packages/PIL/Image.py\", line 2530, in open\n",
            "    fp = builtins.open(filename, \"rb\")\n",
            "FileNotFoundError: [Errno 2] No such file or directory: '/content/drive/My Drive/Pix2PixFlowers/InputFlowers/image_00001.jpg'\n",
            "\n",
            "During handling of the above exception, another exception occurred:\n",
            "\n",
            "Traceback (most recent call last):\n",
            "  File \"/usr/local/lib/python3.6/dist-packages/IPython/core/interactiveshell.py\", line 1823, in showtraceback\n",
            "    stb = value._render_traceback_()\n",
            "AttributeError: 'FileNotFoundError' object has no attribute '_render_traceback_'\n",
            "\n",
            "During handling of the above exception, another exception occurred:\n",
            "\n",
            "Traceback (most recent call last):\n",
            "  File \"/usr/local/lib/python3.6/dist-packages/IPython/core/ultratb.py\", line 1132, in get_records\n",
            "    return _fixed_getinnerframes(etb, number_of_lines_of_context, tb_offset)\n",
            "  File \"/usr/local/lib/python3.6/dist-packages/IPython/core/ultratb.py\", line 313, in wrapped\n",
            "    return f(*args, **kwargs)\n",
            "  File \"/usr/local/lib/python3.6/dist-packages/IPython/core/ultratb.py\", line 358, in _fixed_getinnerframes\n",
            "    records = fix_frame_records_filenames(inspect.getinnerframes(etb, context))\n",
            "  File \"/usr/lib/python3.6/inspect.py\", line 1490, in getinnerframes\n",
            "    frameinfo = (tb.tb_frame,) + getframeinfo(tb, context)\n",
            "  File \"/usr/lib/python3.6/inspect.py\", line 1448, in getframeinfo\n",
            "    filename = getsourcefile(frame) or getfile(frame)\n",
            "  File \"/usr/lib/python3.6/inspect.py\", line 696, in getsourcefile\n",
            "    if getattr(getmodule(object, filename), '__loader__', None) is not None:\n",
            "  File \"/usr/lib/python3.6/inspect.py\", line 725, in getmodule\n",
            "    file = getabsfile(object, _filename)\n",
            "  File \"/usr/lib/python3.6/inspect.py\", line 709, in getabsfile\n",
            "    return os.path.normcase(os.path.abspath(_filename))\n",
            "  File \"/usr/lib/python3.6/posixpath.py\", line 383, in abspath\n",
            "    cwd = os.getcwd()\n",
            "OSError: [Errno 107] Transport endpoint is not connected\n"
          ],
          "name": "stdout"
        },
        {
          "output_type": "error",
          "ename": "FileNotFoundError",
          "evalue": "ignored",
          "traceback": [
            "\u001b[0;31m---------------------------------------------------------------------------\u001b[0m"
          ]
        }
      ]
    },
    {
      "cell_type": "code",
      "metadata": {
        "id": "eHg3ItXRZLHp",
        "colab_type": "code",
        "colab": {}
      },
      "source": [
        "def make_sketches(path_in, path_sketch):\n",
        "    \n",
        "    \"\"\"\n",
        "    This takes one of the real images and creates the \"blurred\" or modified images\n",
        "    path in is where the input images are, path sketch is the place where the modified ones will be stored.\n",
        "    \"\"\"\n",
        "    \n",
        "    os.chdir(path_in)\n",
        "    file_list = glob.glob(\"*\")\n",
        "    file_list.sort()\n",
        "#   os.chdir(path_sketch)\n",
        "\n",
        "    for file in file_list:\n",
        "        a = Image.open(file)\n",
        "        a = a.filter(ImageFilter.GaussianBlur(radius = 2))\n",
        "#         a = a.filter(ImageFilter.Blur(radius = 4))\n",
        "        a = ImageOps.posterize(a, 4)\n",
        "        b = np.asarray(a).copy()\n",
        "        b[:, :, 1] = 0\n",
        "        im = Image.fromarray(np.uint8(b))\n",
        "        os.chdir(path_sketch)\n",
        "        im.save(file)\n",
        "        os.chdir(path_in)\n",
        "#         print(b.shape)\n",
        "        \n",
        "        \n",
        "    \n",
        "    return None"
      ],
      "execution_count": 0,
      "outputs": []
    },
    {
      "cell_type": "code",
      "metadata": {
        "id": "FovJ6sfqgx61",
        "colab_type": "code",
        "colab": {
          "base_uri": "https://localhost:8080/",
          "height": 775
        },
        "outputId": "0055d481-4a35-4467-df27-7f5a866cf636"
      },
      "source": [
        "make_sketches(INPATH, SKEPATH)"
      ],
      "execution_count": 12,
      "outputs": [
        {
          "output_type": "stream",
          "text": [
            "ERROR:root:Internal Python error in the inspect module.\n",
            "Below is the traceback from this internal error.\n",
            "\n"
          ],
          "name": "stderr"
        },
        {
          "output_type": "stream",
          "text": [
            "Traceback (most recent call last):\n",
            "  File \"/usr/local/lib/python3.6/dist-packages/IPython/core/interactiveshell.py\", line 2882, in run_code\n",
            "    exec(code_obj, self.user_global_ns, self.user_ns)\n",
            "  File \"<ipython-input-12-85e69539ee5d>\", line 1, in <module>\n",
            "    make_sketches(INPATH, SKEPATH)\n",
            "  File \"<ipython-input-11-e28a5f06a12a>\", line 8, in make_sketches\n",
            "    os.chdir(path_in)\n",
            "FileNotFoundError: [Errno 2] No such file or directory: '/content/drive/My Drive/Pix2PixFlowers/InputFlowers'\n",
            "\n",
            "During handling of the above exception, another exception occurred:\n",
            "\n",
            "Traceback (most recent call last):\n",
            "  File \"/usr/local/lib/python3.6/dist-packages/IPython/core/interactiveshell.py\", line 1823, in showtraceback\n",
            "    stb = value._render_traceback_()\n",
            "AttributeError: 'FileNotFoundError' object has no attribute '_render_traceback_'\n",
            "\n",
            "During handling of the above exception, another exception occurred:\n",
            "\n",
            "Traceback (most recent call last):\n",
            "  File \"/usr/local/lib/python3.6/dist-packages/IPython/core/ultratb.py\", line 1132, in get_records\n",
            "    return _fixed_getinnerframes(etb, number_of_lines_of_context, tb_offset)\n",
            "  File \"/usr/local/lib/python3.6/dist-packages/IPython/core/ultratb.py\", line 313, in wrapped\n",
            "    return f(*args, **kwargs)\n",
            "  File \"/usr/local/lib/python3.6/dist-packages/IPython/core/ultratb.py\", line 358, in _fixed_getinnerframes\n",
            "    records = fix_frame_records_filenames(inspect.getinnerframes(etb, context))\n",
            "  File \"/usr/lib/python3.6/inspect.py\", line 1490, in getinnerframes\n",
            "    frameinfo = (tb.tb_frame,) + getframeinfo(tb, context)\n",
            "  File \"/usr/lib/python3.6/inspect.py\", line 1448, in getframeinfo\n",
            "    filename = getsourcefile(frame) or getfile(frame)\n",
            "  File \"/usr/lib/python3.6/inspect.py\", line 696, in getsourcefile\n",
            "    if getattr(getmodule(object, filename), '__loader__', None) is not None:\n",
            "  File \"/usr/lib/python3.6/inspect.py\", line 725, in getmodule\n",
            "    file = getabsfile(object, _filename)\n",
            "  File \"/usr/lib/python3.6/inspect.py\", line 709, in getabsfile\n",
            "    return os.path.normcase(os.path.abspath(_filename))\n",
            "  File \"/usr/lib/python3.6/posixpath.py\", line 383, in abspath\n",
            "    cwd = os.getcwd()\n",
            "OSError: [Errno 107] Transport endpoint is not connected\n"
          ],
          "name": "stdout"
        },
        {
          "output_type": "error",
          "ename": "FileNotFoundError",
          "evalue": "ignored",
          "traceback": [
            "\u001b[0;31m---------------------------------------------------------------------------\u001b[0m"
          ]
        }
      ]
    }
  ]
}